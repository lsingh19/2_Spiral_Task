{
 "cells": [
  {
   "cell_type": "code",
   "execution_count": 1,
   "metadata": {},
   "outputs": [
    {
     "name": "stderr",
     "output_type": "stream",
     "text": [
      "C:\\ProgramData\\Anaconda3\\lib\\site-packages\\tensorflow\\python\\framework\\dtypes.py:526: FutureWarning: Passing (type, 1) or '1type' as a synonym of type is deprecated; in a future version of numpy, it will be understood as (type, (1,)) / '(1,)type'.\n",
      "  _np_qint8 = np.dtype([(\"qint8\", np.int8, 1)])\n",
      "C:\\ProgramData\\Anaconda3\\lib\\site-packages\\tensorflow\\python\\framework\\dtypes.py:527: FutureWarning: Passing (type, 1) or '1type' as a synonym of type is deprecated; in a future version of numpy, it will be understood as (type, (1,)) / '(1,)type'.\n",
      "  _np_quint8 = np.dtype([(\"quint8\", np.uint8, 1)])\n",
      "C:\\ProgramData\\Anaconda3\\lib\\site-packages\\tensorflow\\python\\framework\\dtypes.py:528: FutureWarning: Passing (type, 1) or '1type' as a synonym of type is deprecated; in a future version of numpy, it will be understood as (type, (1,)) / '(1,)type'.\n",
      "  _np_qint16 = np.dtype([(\"qint16\", np.int16, 1)])\n",
      "C:\\ProgramData\\Anaconda3\\lib\\site-packages\\tensorflow\\python\\framework\\dtypes.py:529: FutureWarning: Passing (type, 1) or '1type' as a synonym of type is deprecated; in a future version of numpy, it will be understood as (type, (1,)) / '(1,)type'.\n",
      "  _np_quint16 = np.dtype([(\"quint16\", np.uint16, 1)])\n",
      "C:\\ProgramData\\Anaconda3\\lib\\site-packages\\tensorflow\\python\\framework\\dtypes.py:530: FutureWarning: Passing (type, 1) or '1type' as a synonym of type is deprecated; in a future version of numpy, it will be understood as (type, (1,)) / '(1,)type'.\n",
      "  _np_qint32 = np.dtype([(\"qint32\", np.int32, 1)])\n",
      "C:\\ProgramData\\Anaconda3\\lib\\site-packages\\tensorflow\\python\\framework\\dtypes.py:535: FutureWarning: Passing (type, 1) or '1type' as a synonym of type is deprecated; in a future version of numpy, it will be understood as (type, (1,)) / '(1,)type'.\n",
      "  np_resource = np.dtype([(\"resource\", np.ubyte, 1)])\n"
     ]
    }
   ],
   "source": [
    "# COMP3330 Project 1A\n",
    "\n",
    "# Group members: Lovekesh Singh: c, James McCulloch: 3291441, Jamey Blackman: c,\n",
    "# Bradley De Domizio: c3305193, Aditya Jo: c, Hugh Masters: c\n",
    "\n",
    "# Date: 10/05/2020\n",
    "# Question: 1. a)\n",
    "\n",
    "\n",
    "import csv\n",
    "import tensorflow as tf\n",
    "from numpy import arange, round, meshgrid, resize\n",
    "import matplotlib.pyplot as plt\n",
    "\n",
    "\n",
    "def read_two_spiral_file(filename=\"spiralsdataset.csv\"):\n",
    "    x = []\n",
    "    y = []\n",
    "    \n",
    "    with open(filename) as csv_file:\n",
    "        csv_reader = csv.reader(csv_file)\n",
    "        for row in csv_reader:\n",
    "            x.append(list(map(float, row[:-1])))\n",
    "            y.append([float(row[-1])])\n",
    "\n",
    "    return x, y\n",
    "\n",
    "x, y = read_two_spiral_file()"
   ]
  },
  {
   "cell_type": "code",
   "execution_count": 2,
   "metadata": {},
   "outputs": [
    {
     "name": "stdout",
     "output_type": "stream",
     "text": [
      "WARNING:tensorflow:From C:\\ProgramData\\Anaconda3\\lib\\site-packages\\tensorflow\\python\\framework\\op_def_library.py:263: colocate_with (from tensorflow.python.framework.ops) is deprecated and will be removed in a future version.\n",
      "Instructions for updating:\n",
      "Colocations handled automatically by placer.\n"
     ]
    }
   ],
   "source": [
    "# Create the model\n",
    "x_ = tf.placeholder(tf.float32, [None, 2])\n",
    "y_ = tf.placeholder(tf.float32, [None, 1])\n",
    "\n",
    "# Create first layer weights\n",
    "layer_0_weights = tf.Variable(tf.random_normal([2, 40]))\n",
    "layer_0_bias = tf.Variable(tf.random_normal([40]))\n",
    "layer_0 = tf.nn.sigmoid(tf.add((tf.matmul(x_, layer_0_weights)), layer_0_bias))\n",
    "\n",
    "# Create second layer weights\n",
    "layer_1_weights = tf.Variable(tf.random_normal([40, 40]))\n",
    "layer_1_bias = tf.Variable(tf.random_normal([40]))\n",
    "layer_1 = tf.nn.sigmoid(tf.add(tf.matmul(layer_0, layer_1_weights), layer_1_bias))\n",
    "\n",
    "# Create third layer weights\n",
    "layer_2_weights = tf.Variable(tf.random_normal([40, 1]))\n",
    "layer_2_bias = tf.Variable(tf.random_normal([1]))\n",
    "layer_2 = tf.nn.sigmoid(tf.add(tf.matmul(layer_1, layer_2_weights), layer_2_bias))"
   ]
  },
  {
   "cell_type": "code",
   "execution_count": null,
   "metadata": {
    "scrolled": true
   },
   "outputs": [
    {
     "name": "stdout",
     "output_type": "stream",
     "text": [
      "WARNING:tensorflow:From C:\\ProgramData\\Anaconda3\\lib\\site-packages\\tensorflow\\python\\ops\\losses\\losses_impl.py:667: to_float (from tensorflow.python.ops.math_ops) is deprecated and will be removed in a future version.\n",
      "Instructions for updating:\n",
      "Use tf.cast instead.\n",
      "Training...\n"
     ]
    }
   ],
   "source": [
    "# Define error function\n",
    "cost = tf.reduce_mean(tf.losses.mean_squared_error(labels=y_, predictions=layer_2))\n",
    "\n",
    "# .1 learning rate with 50000 epochs was good but worse than .5 learning rate\n",
    "\n",
    "# .5 learning rate with 50000 epochs worked really well.\n",
    "# .5 learning rate with 30000 epochs worked decently.\n",
    "\n",
    "# 1 learning rate with 50000 epochs seemed to result in overtraining\n",
    "# 1 learning rate with 80000 epochs seemed to result in even more overtraining\n",
    "# 1 learning rate with 20000 epochs seemed about as good as the others\n",
    "# 1 learning rate with 10000 epochs seemed ok.\n",
    "\n",
    "# Define optimizer and its task (minimise error function)\n",
    "optimizer = tf.train.GradientDescentOptimizer(learning_rate=.5).minimize(cost)\n",
    "\n",
    "N_EPOCHS = 100000\n",
    "\n",
    "sess = tf.InteractiveSession()\n",
    "tf.global_variables_initializer().run()\n",
    "\n",
    "print('Training...')\n",
    "\n",
    "errors = []\n",
    "\n",
    "# Train\n",
    "for i in range(N_EPOCHS):\n",
    "    _, error = sess.run([optimizer,cost], feed_dict={x_: x, y_: y})\n",
    "    errors.append(error)\n",
    "    \n",
    "plt.plot(errors)\n",
    "plt.show()       "
   ]
  },
  {
   "cell_type": "code",
   "execution_count": null,
   "metadata": {},
   "outputs": [],
   "source": [
    "# Visualise activations\n",
    "activation_range = arange(-6,6,0.1) # interval of [-6,6) with step size 0.1\n",
    "coordinates = [(x,y) for x in activation_range for y in activation_range]\n",
    "classifications = round(sess.run(layer_2, feed_dict={x_:coordinates}))\n",
    "x, y = meshgrid(activation_range, activation_range)\n",
    "plt.scatter(x, y, c=['b' if x > 0 else 'y' for x in classifications])\n",
    "plt.show()"
   ]
  },
  {
   "cell_type": "code",
   "execution_count": null,
   "metadata": {},
   "outputs": [],
   "source": []
  }
 ],
 "metadata": {
  "kernelspec": {
   "display_name": "Python 3",
   "language": "python",
   "name": "python3"
  },
  "language_info": {
   "codemirror_mode": {
    "name": "ipython",
    "version": 3
   },
   "file_extension": ".py",
   "mimetype": "text/x-python",
   "name": "python",
   "nbconvert_exporter": "python",
   "pygments_lexer": "ipython3",
   "version": "3.7.6"
  }
 },
 "nbformat": 4,
 "nbformat_minor": 4
}
